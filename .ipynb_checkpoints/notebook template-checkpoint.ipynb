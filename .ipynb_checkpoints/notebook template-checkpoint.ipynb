{
 "cells": [
  {
   "cell_type": "markdown",
   "id": "9ee0f6e5",
   "metadata": {},
   "source": [
    "# Binary Classification of Machine Failures"
   ]
  },
  {
   "cell_type": "markdown",
   "id": "e7b870b0",
   "metadata": {},
   "source": [
    "optimizing ROC AUC instead of PR AUC"
   ]
  },
  {
   "cell_type": "markdown",
   "id": "5be656b0",
   "metadata": {},
   "source": [
    "## Index <a id=\"index\"></a>\n",
    "\n",
    "- [Libraries](#libraries)\n",
    "- [Import Data](#import_data)\n",
    "- [Data Cleaning](#data_cleaning)\n",
    "- [Exploratory Data Analysis](#eda)\n",
    "- [Preprocessing](#preprocessing)\n",
    "- [PCA Analysis](#pca)\n",
    "- [Model](#model)\n",
    "- [Save Predictions](#savepreds)"
   ]
  },
  {
   "cell_type": "markdown",
   "id": "47da5c34",
   "metadata": {},
   "source": [
    "## Libraries <a id=\"libraries\"></a>"
   ]
  },
  {
   "cell_type": "markdown",
   "id": "f99dfd04",
   "metadata": {},
   "source": [
    "[Return to Index](#index)"
   ]
  },
  {
   "cell_type": "code",
   "execution_count": 1,
   "id": "bcece1fa",
   "metadata": {},
   "outputs": [],
   "source": [
    "import os"
   ]
  },
  {
   "cell_type": "code",
   "execution_count": 2,
   "id": "ab77f141",
   "metadata": {},
   "outputs": [],
   "source": [
    "if 'source' not in os.listdir():\n",
    "    os.chdir('..')"
   ]
  },
  {
   "cell_type": "markdown",
   "id": "e67192b6",
   "metadata": {},
   "source": [
    "## Import Data <a id=\"import_data\"></a>"
   ]
  },
  {
   "cell_type": "markdown",
   "id": "2b3b0863",
   "metadata": {},
   "source": [
    "[Return to Index](#index)"
   ]
  },
  {
   "cell_type": "markdown",
   "id": "91c0e5a6",
   "metadata": {},
   "source": [
    "## Data Cleaning <a id=\"data_cleaning\"></a>"
   ]
  },
  {
   "cell_type": "markdown",
   "id": "c0e9fc02",
   "metadata": {},
   "source": [
    "[Return to Index](#index)"
   ]
  },
  {
   "cell_type": "markdown",
   "id": "0a31253f",
   "metadata": {},
   "source": [
    "## Exploratory Data Analysis <a id=\"eda\"></a>"
   ]
  },
  {
   "cell_type": "markdown",
   "id": "057ba700",
   "metadata": {},
   "source": [
    "[Return to Index](#index)"
   ]
  },
  {
   "cell_type": "markdown",
   "id": "f3e2f24c",
   "metadata": {},
   "source": [
    "Define numerical and categorical columns"
   ]
  },
  {
   "cell_type": "markdown",
   "id": "7b3b9339",
   "metadata": {},
   "source": [
    "## Preprocessing <a id=\"preprocessing\"></a>"
   ]
  },
  {
   "cell_type": "markdown",
   "id": "cbd1e8fd",
   "metadata": {},
   "source": [
    "[Return to Index](#index)"
   ]
  },
  {
   "cell_type": "markdown",
   "id": "d53955ed",
   "metadata": {},
   "source": [
    "Selection of final columns"
   ]
  },
  {
   "cell_type": "markdown",
   "id": "76cd7948",
   "metadata": {},
   "source": [
    "### Train-Test Split"
   ]
  },
  {
   "cell_type": "markdown",
   "id": "d2f76449",
   "metadata": {},
   "source": [
    "## Model <a id=\"model\"></a>"
   ]
  },
  {
   "cell_type": "markdown",
   "id": "13cb991b",
   "metadata": {},
   "source": [
    "[Return to Index](#index)"
   ]
  },
  {
   "cell_type": "markdown",
   "id": "0acc5940",
   "metadata": {},
   "source": [
    "### Final Model <a id=\"finalmodel\"></a>"
   ]
  },
  {
   "cell_type": "markdown",
   "id": "09be2711",
   "metadata": {},
   "source": [
    "[Back to Model](#model)"
   ]
  },
  {
   "cell_type": "markdown",
   "id": "83897259",
   "metadata": {},
   "source": [
    "### Evaluate Model <a id=\"evaluate\"></a>"
   ]
  },
  {
   "cell_type": "markdown",
   "id": "1420a98c",
   "metadata": {},
   "source": [
    "[Back to Model](#model)"
   ]
  },
  {
   "cell_type": "markdown",
   "id": "8d9d2e0d",
   "metadata": {},
   "source": [
    "### Save Predictions <a id=\"savepreds\"></a>"
   ]
  },
  {
   "cell_type": "markdown",
   "id": "2a22c9b3",
   "metadata": {},
   "source": [
    "[Back to Model](#model)"
   ]
  }
 ],
 "metadata": {
  "kernelspec": {
   "display_name": "Python 3 (ipykernel)",
   "language": "python",
   "name": "python3"
  },
  "language_info": {
   "codemirror_mode": {
    "name": "ipython",
    "version": 3
   },
   "file_extension": ".py",
   "mimetype": "text/x-python",
   "name": "python",
   "nbconvert_exporter": "python",
   "pygments_lexer": "ipython3",
   "version": "3.9.6"
  }
 },
 "nbformat": 4,
 "nbformat_minor": 5
}
